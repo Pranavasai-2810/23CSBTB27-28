{
  "nbformat": 4,
  "nbformat_minor": 0,
  "metadata": {
    "colab": {
      "provenance": [],
      "authorship_tag": "ABX9TyPzNkrJP9Jutk1oDnHDzNtL",
      "include_colab_link": true
    },
    "kernelspec": {
      "name": "python3",
      "display_name": "Python 3"
    },
    "language_info": {
      "name": "python"
    }
  },
  "cells": [
    {
      "cell_type": "markdown",
      "metadata": {
        "id": "view-in-github",
        "colab_type": "text"
      },
      "source": [
        "<a href=\"https://colab.research.google.com/github/Pranavasai-2810/23CSBTB27-28/blob/main/elementlist1.ipynb\" target=\"_parent\"><img src=\"https://colab.research.google.com/assets/colab-badge.svg\" alt=\"Open In Colab\"/></a>"
      ]
    },
    {
      "cell_type": "code",
      "execution_count": 5,
      "metadata": {
        "colab": {
          "base_uri": "https://localhost:8080/"
        },
        "id": "yR15LoN6nzUp",
        "outputId": "1ca2f6d2-fa8a-4598-f099-986443c7ef5a"
      },
      "outputs": [
        {
          "output_type": "stream",
          "name": "stdout",
          "text": [
            "k\n",
            "ram\n",
            "[7, 9, 10]\n",
            "7\n",
            "a\n"
          ]
        }
      ],
      "source": [
        "import numpy as np\n",
        "A=['k','c','ram',1,[7,9,10]]\n",
        "print(A[0])\n",
        "print(A[2])\n",
        "print(A[4])\n",
        "print(A[4][0])\n",
        "print(A[2][1])"
      ]
    }
  ]
}