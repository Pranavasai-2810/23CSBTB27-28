{
  "nbformat": 4,
  "nbformat_minor": 0,
  "metadata": {
    "colab": {
      "provenance": [],
      "authorship_tag": "ABX9TyMYJxz8G7Vza4ulXYvVmiql",
      "include_colab_link": true
    },
    "kernelspec": {
      "name": "python3",
      "display_name": "Python 3"
    },
    "language_info": {
      "name": "python"
    }
  },
  "cells": [
    {
      "cell_type": "markdown",
      "metadata": {
        "id": "view-in-github",
        "colab_type": "text"
      },
      "source": [
        "<a href=\"https://colab.research.google.com/github/Pranavasai-2810/23CSBTB27-28/blob/main/listtype.ipynb\" target=\"_parent\"><img src=\"https://colab.research.google.com/assets/colab-badge.svg\" alt=\"Open In Colab\"/></a>"
      ]
    },
    {
      "cell_type": "code",
      "execution_count": null,
      "metadata": {
        "id": "tychC4Ski2Xr"
      },
      "outputs": [],
      "source": [
        "\n"
      ]
    },
    {
      "cell_type": "markdown",
      "source": [
        "PART 1 IMPLEMENT BASIC DATA STRUCTURES USING NUMPY, PANDA"
      ],
      "metadata": {
        "id": "IlFvTAV7qfZG"
      }
    },
    {
      "cell_type": "code",
      "source": [
        "list=[\"Geeks\",\"For\",\"Geeks\"]\n",
        "list1=\"my first lab\"\n",
        "list2=4.3\n",
        "list3=2j+6\n",
        "list4='My first lab'\n",
        "print(type(list))\n",
        "print(type(list1))\n",
        "print(type(list2))\n",
        "print(type(list3))\n",
        "print(type(list4))\n",
        "print(\"\\nList items:\")\n",
        "print(list[0])\n",
        "print(list[1])\n",
        "print(list[2])\n",
        "\n"
      ],
      "metadata": {
        "id": "S1_VXZuYjlvP",
        "colab": {
          "base_uri": "https://localhost:8080/"
        },
        "outputId": "fced81bd-895d-4758-f74b-9dbfaf8a9f0f"
      },
      "execution_count": 3,
      "outputs": [
        {
          "output_type": "stream",
          "name": "stdout",
          "text": [
            "<class 'list'>\n",
            "<class 'str'>\n",
            "<class 'float'>\n",
            "<class 'complex'>\n",
            "<class 'str'>\n",
            "\n",
            "List items:\n",
            "Geeks\n",
            "For\n",
            "Geeks\n"
          ]
        }
      ]
    },
    {
      "cell_type": "code",
      "source": [
        "import numpy as np\n",
        "list={1,5,2,6,7}\n",
        "list1=[3,6,1,8]\n",
        "print(list)\n",
        "print(list1)\n",
        "print(type(list))\n",
        "print(type(list1))"
      ],
      "metadata": {
        "colab": {
          "base_uri": "https://localhost:8080/"
        },
        "id": "J287tQlLpTQ0",
        "outputId": "cae1315a-3948-426f-f897-4f879b8a9a1d"
      },
      "execution_count": 4,
      "outputs": [
        {
          "output_type": "stream",
          "name": "stdout",
          "text": [
            "{1, 2, 5, 6, 7}\n",
            "[3, 6, 1, 8]\n",
            "<class 'set'>\n",
            "<class 'list'>\n"
          ]
        }
      ]
    }
  ]
}