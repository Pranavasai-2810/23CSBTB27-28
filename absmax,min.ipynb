{
  "nbformat": 4,
  "nbformat_minor": 0,
  "metadata": {
    "colab": {
      "provenance": [],
      "authorship_tag": "ABX9TyOKcrBCcvEF3HuT9bsdc8JI",
      "include_colab_link": true
    },
    "kernelspec": {
      "name": "python3",
      "display_name": "Python 3"
    },
    "language_info": {
      "name": "python"
    }
  },
  "cells": [
    {
      "cell_type": "markdown",
      "metadata": {
        "id": "view-in-github",
        "colab_type": "text"
      },
      "source": [
        "<a href=\"https://colab.research.google.com/github/Pranavasai-2810/23CSBTB27-28/blob/main/absmax%2Cmin.ipynb\" target=\"_parent\"><img src=\"https://colab.research.google.com/assets/colab-badge.svg\" alt=\"Open In Colab\"/></a>"
      ]
    },
    {
      "cell_type": "code",
      "execution_count": 1,
      "metadata": {
        "colab": {
          "base_uri": "https://localhost:8080/"
        },
        "id": "6A_zahjwsk5r",
        "outputId": "20bdeaa9-994f-4d63-f21b-e566956389ba"
      },
      "outputs": [
        {
          "output_type": "stream",
          "name": "stdout",
          "text": [
            "-8\n",
            "9\n",
            "8\n",
            "9\n"
          ]
        }
      ],
      "source": [
        "import numpy as np\n",
        "A=[4,-6,3,9,-8,0,1,5]\n",
        "print(min(A))\n",
        "print(max(A))\n",
        "print(abs(min(A)))\n",
        "print(abs(max(A)))"
      ]
    }
  ]
}