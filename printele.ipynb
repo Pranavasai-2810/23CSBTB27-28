{
  "nbformat": 4,
  "nbformat_minor": 0,
  "metadata": {
    "colab": {
      "provenance": [],
      "authorship_tag": "ABX9TyNkdYvDtWMUvGjMvR8SVrd7",
      "include_colab_link": true
    },
    "kernelspec": {
      "name": "python3",
      "display_name": "Python 3"
    },
    "language_info": {
      "name": "python"
    }
  },
  "cells": [
    {
      "cell_type": "markdown",
      "metadata": {
        "id": "view-in-github",
        "colab_type": "text"
      },
      "source": [
        "<a href=\"https://colab.research.google.com/github/Pranavasai-2810/23CSBTB27-28/blob/main/printele.ipynb\" target=\"_parent\"><img src=\"https://colab.research.google.com/assets/colab-badge.svg\" alt=\"Open In Colab\"/></a>"
      ]
    },
    {
      "cell_type": "code",
      "execution_count": 6,
      "metadata": {
        "colab": {
          "base_uri": "https://localhost:8080/"
        },
        "id": "6A_zahjwsk5r",
        "outputId": "ec6e6eae-d9c5-4cf2-de4b-79b63bb5b457"
      },
      "outputs": [
        {
          "output_type": "stream",
          "name": "stdout",
          "text": [
            "67\n",
            "12\n"
          ]
        }
      ],
      "source": [
        "import numpy as np\n",
        "a=[9,8,10,12,28,67,91]\n",
        "arr=np.array(a)\n",
        "print(arr[5])\n",
        "print(arr[3])\n"
      ]
    }
  ]
}